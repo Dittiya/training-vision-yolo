{
 "cells": [
  {
   "cell_type": "markdown",
   "id": "869e6593",
   "metadata": {},
   "source": [
    "# Dir Structure\n",
    "```\n",
    "<your-repo>\n",
    "|_ dataset\n",
    "    |_ dataset.yaml\n",
    "|_ yolov5*\n",
    "\n",
    "```"
   ]
  },
  {
   "cell_type": "code",
   "execution_count": 1,
   "id": "981507a2",
   "metadata": {},
   "outputs": [
    {
     "name": "stderr",
     "output_type": "stream",
     "text": [
      "C:\\Users\\aditi\\miniconda3\\envs\\yolo\\lib\\site-packages\\tqdm\\auto.py:22: TqdmWarning: IProgress not found. Please update jupyter and ipywidgets. See https://ipywidgets.readthedocs.io/en/stable/user_install.html\n",
      "  from .autonotebook import tqdm as notebook_tqdm\n"
     ]
    },
    {
     "data": {
      "text/plain": [
       "True"
      ]
     },
     "execution_count": 1,
     "metadata": {},
     "output_type": "execute_result"
    }
   ],
   "source": [
    "# check if cuda is used\n",
    "import torch\n",
    "import os\n",
    "from os import path\n",
    "\n",
    "torch.cuda.is_available()"
   ]
  },
  {
   "cell_type": "code",
   "execution_count": 2,
   "id": "e7a18bbd",
   "metadata": {},
   "outputs": [
    {
     "name": "stdout",
     "output_type": "stream",
     "text": [
      "11.3\n"
     ]
    }
   ],
   "source": [
    "print(torch.version.cuda)"
   ]
  },
  {
   "cell_type": "code",
   "execution_count": null,
   "id": "42cf7a73",
   "metadata": {},
   "outputs": [],
   "source": [
    "!python -m torch.utils.collect_env"
   ]
  },
  {
   "cell_type": "code",
   "execution_count": null,
   "id": "8059b657",
   "metadata": {},
   "outputs": [],
   "source": [
    "# create dataset.yaml file\n",
    "if not path.exists('datasets'):\n",
    "    os.mkdir('datasets')\n",
    "    "
   ]
  },
  {
   "cell_type": "code",
   "execution_count": null,
   "id": "f9913ada",
   "metadata": {},
   "outputs": [],
   "source": [
    "python yolov5/train.py --img 640 --batch 2 --epochs 1 --data datasets/training/ak.yaml --weights yolov5/yolov5s.pt --hyp hyp.custom.yaml\n",
    "python yolov5/train.py --img 640 --batch 2 --epochs 300 --data datasets/training/ak.yaml --weights yolov5/yolov5s.pt --hyp hyp.custom.yaml --rect"
   ]
  },
  {
   "cell_type": "code",
   "execution_count": 3,
   "id": "d2bc809d",
   "metadata": {},
   "outputs": [
    {
     "name": "stderr",
     "output_type": "stream",
     "text": [
      "\u001b[34m\u001b[1mdetect: \u001b[0mweights=['yolov5/runs/train/exp5/weights/best.pt'], source=datasets/inference, data=yolov5\\data\\coco128.yaml, imgsz=[640, 640], conf_thres=0.4, iou_thres=0.45, max_det=1000, device=, view_img=False, save_txt=False, save_conf=False, save_crop=False, nosave=False, classes=None, agnostic_nms=False, augment=False, visualize=False, update=False, project=yolov5\\runs\\detect, name=exp, exist_ok=False, line_thickness=3, hide_labels=False, hide_conf=False, half=False, dnn=False\n",
      "YOLOv5  v6.1-280-g27d831b Python-3.9.12 torch-1.11.0+cu113 CUDA:0 (NVIDIA GeForce RTX 3060 Laptop GPU, 6144MiB)\n",
      "\n",
      "Fusing layers... \n",
      "Model summary: 213 layers, 7053277 parameters, 0 gradients, 15.9 GFLOPs\n",
      "image 1/6 D:\\Repository\\tracking-vision-yolo\\datasets\\inference\\11629306773920_left.jpg: 640x640 Done. (0.011s)\n",
      "image 2/6 D:\\Repository\\tracking-vision-yolo\\datasets\\inference\\11629306773920_right.jpg: 640x640 Done. (0.009s)\n",
      "image 3/6 D:\\Repository\\tracking-vision-yolo\\datasets\\inference\\1652318725751_right.jpg: 640x640 Done. (0.008s)\n",
      "image 4/6 D:\\Repository\\tracking-vision-yolo\\datasets\\inference\\pull_2_right.jpg: 640x640 1 spot, 1 cardigan, 1 steward, Done. (0.008s)\n",
      "image 5/6 D:\\Repository\\tracking-vision-yolo\\datasets\\inference\\pull_3_left.jpg: 640x640 2 cardigans, Done. (0.009s)\n",
      "image 6/6 D:\\Repository\\tracking-vision-yolo\\datasets\\inference\\pull_3_right.jpg: 640x640 Done. (0.009s)\n",
      "Speed: 0.5ms pre-process, 9.0ms inference, 0.8ms NMS per image at shape (1, 3, 640, 640)\n",
      "Results saved to \u001b[1myolov5\\runs\\detect\\exp\u001b[0m\n"
     ]
    }
   ],
   "source": [
    "!python yolov5/detect.py --weights yolov5/runs/train/exp5/weights/best.pt --img 640 --conf 0.4 --source datasets/inference"
   ]
  }
 ],
 "metadata": {
  "kernelspec": {
   "display_name": "Python 3 (ipykernel)",
   "language": "python",
   "name": "python3"
  },
  "language_info": {
   "codemirror_mode": {
    "name": "ipython",
    "version": 3
   },
   "file_extension": ".py",
   "mimetype": "text/x-python",
   "name": "python",
   "nbconvert_exporter": "python",
   "pygments_lexer": "ipython3",
   "version": "3.9.12"
  }
 },
 "nbformat": 4,
 "nbformat_minor": 5
}
