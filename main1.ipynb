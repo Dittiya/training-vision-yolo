{
 "cells": [
  {
   "cell_type": "markdown",
   "id": "a1672a3b",
   "metadata": {},
   "source": [
    "# References\n",
    "[Tutorial](https://gilberttanner.com/blog/tensorflow-object-detection-with-tensorflow-2-creating-a-custom-model/) <br>\n",
    "[Official docs](https://tensorflow-object-detection-api-tutorial.readthedocs.io/en/latest/install.html#general-remarks)"
   ]
  },
  {
   "cell_type": "markdown",
   "id": "36ab98db",
   "metadata": {},
   "source": [
    "# Folder structures \n",
    "```\n",
    "<your-repo>\n",
    "|_ annotated\n",
    "    |_ label_map.pbtxt\n",
    "    |_ 1.xml\n",
    "    |_ 2.xml\n",
    "    |_ ...xml\n",
    "|_ images\n",
    "    |_ 1.jpg\n",
    "    |_ 2.jpg\n",
    "    |_ ...jpg\n",
    "|_ models (should be from TF2 repo)\n",
    "    |_ <custom-model>\n",
    "        |_pipeline.config (modified config)\n",
    "|_ records\n",
    "    |_ train.record\n",
    "    |_ test.record\n",
    "|_ csv\n",
    "    |_ train_annot.csv\n",
    "    |_ test_annot.csv\n",
    "|_ main.ipynb\n",
    "```"
   ]
  },
  {
   "cell_type": "markdown",
   "id": "255be640",
   "metadata": {},
   "source": [
    "# Setup"
   ]
  },
  {
   "cell_type": "markdown",
   "id": "1102a248",
   "metadata": {},
   "source": [
    "# Installation\n",
    "Only need to run these codeblocks once."
   ]
  },
  {
   "cell_type": "code",
   "execution_count": 7,
   "id": "cellular-transparency",
   "metadata": {},
   "outputs": [],
   "source": [
    "# clone tensorflow models\n",
    "if not path.exists('models'):\n",
    "    !git clone https://github.com/tensorflow/models.git"
   ]
  },
  {
   "cell_type": "markdown",
   "id": "baea6fea",
   "metadata": {},
   "source": [
    "### Protoc should be downloaded beforehand from [google repo](https://github.com/protocolbuffers/protobuf/releases) search for v3.4.0 and place it under models/research directory.\n",
    "v3.5 and above have deprecated the following command \n",
    "<br>`!protoc object_detection/protos/*.proto --python_out=.`. "
   ]
  },
  {
   "cell_type": "code",
   "execution_count": 17,
   "id": "3f677507",
   "metadata": {},
   "outputs": [
    {
     "name": "stdout",
     "output_type": "stream",
     "text": [
      "D:\\Repository\\tracking-vision\\models\\research\n",
      "D:\\Repository\\tracking-vision\n"
     ]
    }
   ],
   "source": [
    "%cd models/research/\n",
    "# runs protoc \n",
    "!protoc object_detection/protos/*.proto --python_out=.\n",
    "\n",
    "# copy setup.py to models/research, do this manually if the code does not run\n",
    "# !cp object_detection/packages/tf2/setup.py .\n",
    "\n",
    "# install object_detection API\n",
    "!python -m pip install .\n",
    "\n",
    "%cd ../../"
   ]
  },
  {
   "cell_type": "markdown",
   "id": "ea0e9dfd",
   "metadata": {},
   "source": [
    "### There should be no errors if installation is correct"
   ]
  },
  {
   "cell_type": "code",
   "execution_count": 2,
   "id": "7542dbd6",
   "metadata": {
    "scrolled": true
   },
   "outputs": [
    {
     "name": "stderr",
     "output_type": "stream",
     "text": [
      "Running tests under Python 3.9.12: C:\\Users\\shade\\miniconda3\\envs\\tensorflow\\python.exe\n",
      "[ RUN      ] ModelBuilderTF2Test.test_create_center_net_deepmac\n",
      "2022-06-12 18:34:37.466397: I tensorflow/core/platform/cpu_feature_guard.cc:193] This TensorFlow binary is optimized with oneAPI Deep Neural Network Library (oneDNN) to use the following CPU instructions in performance-critical operations:  AVX AVX2\n",
      "To enable them in other operations, rebuild TensorFlow with the appropriate compiler flags.\n",
      "2022-06-12 18:34:38.061330: I tensorflow/core/common_runtime/gpu/gpu_device.cc:1532] Created device /job:localhost/replica:0/task:0/device:GPU:0 with 2780 MB memory:  -> device: 0, name: NVIDIA GeForce GTX 1050 Ti, pci bus id: 0000:01:00.0, compute capability: 6.1\n",
      "C:\\Users\\shade\\miniconda3\\envs\\tensorflow\\lib\\site-packages\\object_detection\\builders\\model_builder.py:1102: DeprecationWarning: The 'warn' function is deprecated, use 'warning' instead\n",
      "  logging.warn(('Building experimental DeepMAC meta-arch.'\n",
      "W0612 18:34:38.485827 42728 model_builder.py:1102] Building experimental DeepMAC meta-arch. Some features may be omitted.\n",
      "INFO:tensorflow:time(__main__.ModelBuilderTF2Test.test_create_center_net_deepmac): 1.32s\n",
      "I0612 18:34:38.786537 42728 test_util.py:2458] time(__main__.ModelBuilderTF2Test.test_create_center_net_deepmac): 1.32s\n",
      "[       OK ] ModelBuilderTF2Test.test_create_center_net_deepmac\n",
      "[ RUN      ] ModelBuilderTF2Test.test_create_center_net_model0 (customize_head_params=True)\n",
      "INFO:tensorflow:time(__main__.ModelBuilderTF2Test.test_create_center_net_model0 (customize_head_params=True)): 1.54s\n",
      "I0612 18:34:40.324518 42728 test_util.py:2458] time(__main__.ModelBuilderTF2Test.test_create_center_net_model0 (customize_head_params=True)): 1.54s\n",
      "[       OK ] ModelBuilderTF2Test.test_create_center_net_model0 (customize_head_params=True)\n",
      "[ RUN      ] ModelBuilderTF2Test.test_create_center_net_model1 (customize_head_params=False)\n",
      "INFO:tensorflow:time(__main__.ModelBuilderTF2Test.test_create_center_net_model1 (customize_head_params=False)): 0.31s\n",
      "I0612 18:34:40.631721 42728 test_util.py:2458] time(__main__.ModelBuilderTF2Test.test_create_center_net_model1 (customize_head_params=False)): 0.31s\n",
      "[       OK ] ModelBuilderTF2Test.test_create_center_net_model1 (customize_head_params=False)\n",
      "[ RUN      ] ModelBuilderTF2Test.test_create_center_net_model_from_keypoints\n",
      "INFO:tensorflow:time(__main__.ModelBuilderTF2Test.test_create_center_net_model_from_keypoints): 0.29s\n",
      "I0612 18:34:40.920310 42728 test_util.py:2458] time(__main__.ModelBuilderTF2Test.test_create_center_net_model_from_keypoints): 0.29s\n",
      "[       OK ] ModelBuilderTF2Test.test_create_center_net_model_from_keypoints\n",
      "[ RUN      ] ModelBuilderTF2Test.test_create_center_net_model_mobilenet\n",
      "INFO:tensorflow:time(__main__.ModelBuilderTF2Test.test_create_center_net_model_mobilenet): 2.29s\n",
      "I0612 18:34:43.212241 42728 test_util.py:2458] time(__main__.ModelBuilderTF2Test.test_create_center_net_model_mobilenet): 2.29s\n",
      "[       OK ] ModelBuilderTF2Test.test_create_center_net_model_mobilenet\n",
      "[ RUN      ] ModelBuilderTF2Test.test_create_experimental_model\n",
      "INFO:tensorflow:time(__main__.ModelBuilderTF2Test.test_create_experimental_model): 0.0s\n",
      "I0612 18:34:43.214236 42728 test_util.py:2458] time(__main__.ModelBuilderTF2Test.test_create_experimental_model): 0.0s\n",
      "[       OK ] ModelBuilderTF2Test.test_create_experimental_model\n",
      "[ RUN      ] ModelBuilderTF2Test.test_create_faster_rcnn_from_config_with_crop_feature0 (True)\n",
      "INFO:tensorflow:time(__main__.ModelBuilderTF2Test.test_create_faster_rcnn_from_config_with_crop_feature0 (True)): 0.03s\n",
      "I0612 18:34:43.242185 42728 test_util.py:2458] time(__main__.ModelBuilderTF2Test.test_create_faster_rcnn_from_config_with_crop_feature0 (True)): 0.03s\n",
      "[       OK ] ModelBuilderTF2Test.test_create_faster_rcnn_from_config_with_crop_feature0 (True)\n",
      "[ RUN      ] ModelBuilderTF2Test.test_create_faster_rcnn_from_config_with_crop_feature1 (False)\n",
      "INFO:tensorflow:time(__main__.ModelBuilderTF2Test.test_create_faster_rcnn_from_config_with_crop_feature1 (False)): 0.01s\n",
      "I0612 18:34:43.257154 42728 test_util.py:2458] time(__main__.ModelBuilderTF2Test.test_create_faster_rcnn_from_config_with_crop_feature1 (False)): 0.01s\n",
      "[       OK ] ModelBuilderTF2Test.test_create_faster_rcnn_from_config_with_crop_feature1 (False)\n",
      "[ RUN      ] ModelBuilderTF2Test.test_create_faster_rcnn_model_from_config_with_example_miner\n",
      "INFO:tensorflow:time(__main__.ModelBuilderTF2Test.test_create_faster_rcnn_model_from_config_with_example_miner): 0.02s\n",
      "I0612 18:34:43.273106 42728 test_util.py:2458] time(__main__.ModelBuilderTF2Test.test_create_faster_rcnn_model_from_config_with_example_miner): 0.02s\n",
      "[       OK ] ModelBuilderTF2Test.test_create_faster_rcnn_model_from_config_with_example_miner\n",
      "[ RUN      ] ModelBuilderTF2Test.test_create_faster_rcnn_models_from_config_faster_rcnn_with_matmul\n",
      "INFO:tensorflow:time(__main__.ModelBuilderTF2Test.test_create_faster_rcnn_models_from_config_faster_rcnn_with_matmul): 0.24s\n",
      "I0612 18:34:43.512290 42728 test_util.py:2458] time(__main__.ModelBuilderTF2Test.test_create_faster_rcnn_models_from_config_faster_rcnn_with_matmul): 0.24s\n",
      "[       OK ] ModelBuilderTF2Test.test_create_faster_rcnn_models_from_config_faster_rcnn_with_matmul\n",
      "[ RUN      ] ModelBuilderTF2Test.test_create_faster_rcnn_models_from_config_faster_rcnn_without_matmul\n",
      "INFO:tensorflow:time(__main__.ModelBuilderTF2Test.test_create_faster_rcnn_models_from_config_faster_rcnn_without_matmul): 0.12s\n",
      "I0612 18:34:43.633965 42728 test_util.py:2458] time(__main__.ModelBuilderTF2Test.test_create_faster_rcnn_models_from_config_faster_rcnn_without_matmul): 0.12s\n",
      "[       OK ] ModelBuilderTF2Test.test_create_faster_rcnn_models_from_config_faster_rcnn_without_matmul\n",
      "[ RUN      ] ModelBuilderTF2Test.test_create_faster_rcnn_models_from_config_mask_rcnn_with_matmul\n",
      "INFO:tensorflow:time(__main__.ModelBuilderTF2Test.test_create_faster_rcnn_models_from_config_mask_rcnn_with_matmul): 0.13s\n",
      "I0612 18:34:43.763327 42728 test_util.py:2458] time(__main__.ModelBuilderTF2Test.test_create_faster_rcnn_models_from_config_mask_rcnn_with_matmul): 0.13s\n",
      "[       OK ] ModelBuilderTF2Test.test_create_faster_rcnn_models_from_config_mask_rcnn_with_matmul\n",
      "[ RUN      ] ModelBuilderTF2Test.test_create_faster_rcnn_models_from_config_mask_rcnn_without_matmul\n",
      "INFO:tensorflow:time(__main__.ModelBuilderTF2Test.test_create_faster_rcnn_models_from_config_mask_rcnn_without_matmul): 0.12s\n",
      "I0612 18:34:43.883221 42728 test_util.py:2458] time(__main__.ModelBuilderTF2Test.test_create_faster_rcnn_models_from_config_mask_rcnn_without_matmul): 0.12s\n",
      "[       OK ] ModelBuilderTF2Test.test_create_faster_rcnn_models_from_config_mask_rcnn_without_matmul\n",
      "[ RUN      ] ModelBuilderTF2Test.test_create_rfcn_model_from_config\n",
      "INFO:tensorflow:time(__main__.ModelBuilderTF2Test.test_create_rfcn_model_from_config): 0.1s\n",
      "I0612 18:34:43.986912 42728 test_util.py:2458] time(__main__.ModelBuilderTF2Test.test_create_rfcn_model_from_config): 0.1s\n",
      "[       OK ] ModelBuilderTF2Test.test_create_rfcn_model_from_config\n",
      "[ RUN      ] ModelBuilderTF2Test.test_create_ssd_fpn_model_from_config\n",
      "INFO:tensorflow:time(__main__.ModelBuilderTF2Test.test_create_ssd_fpn_model_from_config): 0.03s\n",
      "I0612 18:34:44.017848 42728 test_util.py:2458] time(__main__.ModelBuilderTF2Test.test_create_ssd_fpn_model_from_config): 0.03s\n",
      "[       OK ] ModelBuilderTF2Test.test_create_ssd_fpn_model_from_config\n",
      "[ RUN      ] ModelBuilderTF2Test.test_create_ssd_models_from_config\n",
      "I0612 18:34:44.219237 42728 ssd_efficientnet_bifpn_feature_extractor.py:145] EfficientDet EfficientNet backbone version: efficientnet-b0\n",
      "I0612 18:34:44.219237 42728 ssd_efficientnet_bifpn_feature_extractor.py:147] EfficientDet BiFPN num filters: 64\n",
      "I0612 18:34:44.219237 42728 ssd_efficientnet_bifpn_feature_extractor.py:148] EfficientDet BiFPN num iterations: 3\n",
      "I0612 18:34:44.222229 42728 efficientnet_model.py:143] round_filter input=32 output=32\n",
      "I0612 18:34:44.243173 42728 efficientnet_model.py:143] round_filter input=32 output=32\n",
      "I0612 18:34:44.243173 42728 efficientnet_model.py:143] round_filter input=16 output=16\n",
      "I0612 18:34:44.322960 42728 efficientnet_model.py:143] round_filter input=16 output=16\n",
      "I0612 18:34:44.322960 42728 efficientnet_model.py:143] round_filter input=24 output=24\n",
      "I0612 18:34:44.537420 42728 efficientnet_model.py:143] round_filter input=24 output=24\n",
      "I0612 18:34:44.537420 42728 efficientnet_model.py:143] round_filter input=40 output=40\n",
      "I0612 18:34:44.730870 42728 efficientnet_model.py:143] round_filter input=40 output=40\n",
      "I0612 18:34:44.731868 42728 efficientnet_model.py:143] round_filter input=80 output=80\n",
      "I0612 18:34:45.015118 42728 efficientnet_model.py:143] round_filter input=80 output=80\n",
      "I0612 18:34:45.015118 42728 efficientnet_model.py:143] round_filter input=112 output=112\n",
      "I0612 18:34:45.282951 42728 efficientnet_model.py:143] round_filter input=112 output=112\n",
      "I0612 18:34:45.283947 42728 efficientnet_model.py:143] round_filter input=192 output=192\n",
      "I0612 18:34:45.672907 42728 efficientnet_model.py:143] round_filter input=192 output=192\n",
      "I0612 18:34:45.672907 42728 efficientnet_model.py:143] round_filter input=320 output=320\n",
      "I0612 18:34:45.768651 42728 efficientnet_model.py:143] round_filter input=1280 output=1280\n",
      "I0612 18:34:45.803700 42728 efficientnet_model.py:453] Building model efficientnet with params ModelConfig(width_coefficient=1.0, depth_coefficient=1.0, resolution=224, dropout_rate=0.2, blocks=(BlockConfig(input_filters=32, output_filters=16, kernel_size=3, num_repeat=1, expand_ratio=1, strides=(1, 1), se_ratio=0.25, id_skip=True, fused_conv=False, conv_type='depthwise'), BlockConfig(input_filters=16, output_filters=24, kernel_size=3, num_repeat=2, expand_ratio=6, strides=(2, 2), se_ratio=0.25, id_skip=True, fused_conv=False, conv_type='depthwise'), BlockConfig(input_filters=24, output_filters=40, kernel_size=5, num_repeat=2, expand_ratio=6, strides=(2, 2), se_ratio=0.25, id_skip=True, fused_conv=False, conv_type='depthwise'), BlockConfig(input_filters=40, output_filters=80, kernel_size=3, num_repeat=3, expand_ratio=6, strides=(2, 2), se_ratio=0.25, id_skip=True, fused_conv=False, conv_type='depthwise'), BlockConfig(input_filters=80, output_filters=112, kernel_size=5, num_repeat=3, expand_ratio=6, strides=(1, 1), se_ratio=0.25, id_skip=True, fused_conv=False, conv_type='depthwise'), BlockConfig(input_filters=112, output_filters=192, kernel_size=5, num_repeat=4, expand_ratio=6, strides=(2, 2), se_ratio=0.25, id_skip=True, fused_conv=False, conv_type='depthwise'), BlockConfig(input_filters=192, output_filters=320, kernel_size=3, num_repeat=1, expand_ratio=6, strides=(1, 1), se_ratio=0.25, id_skip=True, fused_conv=False, conv_type='depthwise')), stem_base_filters=32, top_base_filters=1280, activation='simple_swish', batch_norm='default', bn_momentum=0.99, bn_epsilon=0.001, weight_decay=5e-06, drop_connect_rate=0.2, depth_divisor=8, min_depth=None, use_se=True, input_channels=3, num_classes=1000, model_name='efficientnet', rescale_input=False, data_format='channels_last', dtype='float32')\n",
      "I0612 18:34:45.862549 42728 ssd_efficientnet_bifpn_feature_extractor.py:145] EfficientDet EfficientNet backbone version: efficientnet-b1\n",
      "I0612 18:34:45.862549 42728 ssd_efficientnet_bifpn_feature_extractor.py:147] EfficientDet BiFPN num filters: 88\n",
      "I0612 18:34:45.862549 42728 ssd_efficientnet_bifpn_feature_extractor.py:148] EfficientDet BiFPN num iterations: 4\n",
      "I0612 18:34:45.864510 42728 efficientnet_model.py:143] round_filter input=32 output=32\n",
      "I0612 18:34:45.883493 42728 efficientnet_model.py:143] round_filter input=32 output=32\n",
      "I0612 18:34:45.884491 42728 efficientnet_model.py:143] round_filter input=16 output=16\n",
      "I0612 18:34:46.024116 42728 efficientnet_model.py:143] round_filter input=16 output=16\n",
      "I0612 18:34:46.024116 42728 efficientnet_model.py:143] round_filter input=24 output=24\n",
      "I0612 18:34:46.291368 42728 efficientnet_model.py:143] round_filter input=24 output=24\n",
      "I0612 18:34:46.291368 42728 efficientnet_model.py:143] round_filter input=40 output=40\n",
      "I0612 18:34:46.554738 42728 efficientnet_model.py:143] round_filter input=40 output=40\n",
      "I0612 18:34:46.554738 42728 efficientnet_model.py:143] round_filter input=80 output=80\n",
      "I0612 18:34:46.915834 42728 efficientnet_model.py:143] round_filter input=80 output=80\n",
      "I0612 18:34:46.915834 42728 efficientnet_model.py:143] round_filter input=112 output=112\n",
      "I0612 18:34:47.272911 42728 efficientnet_model.py:143] round_filter input=112 output=112\n",
      "I0612 18:34:47.272911 42728 efficientnet_model.py:143] round_filter input=192 output=192\n",
      "I0612 18:34:47.719684 42728 efficientnet_model.py:143] round_filter input=192 output=192\n",
      "I0612 18:34:47.719684 42728 efficientnet_model.py:143] round_filter input=320 output=320\n",
      "I0612 18:34:47.890228 42728 efficientnet_model.py:143] round_filter input=1280 output=1280\n",
      "I0612 18:34:47.923139 42728 efficientnet_model.py:453] Building model efficientnet with params ModelConfig(width_coefficient=1.0, depth_coefficient=1.1, resolution=240, dropout_rate=0.2, blocks=(BlockConfig(input_filters=32, output_filters=16, kernel_size=3, num_repeat=1, expand_ratio=1, strides=(1, 1), se_ratio=0.25, id_skip=True, fused_conv=False, conv_type='depthwise'), BlockConfig(input_filters=16, output_filters=24, kernel_size=3, num_repeat=2, expand_ratio=6, strides=(2, 2), se_ratio=0.25, id_skip=True, fused_conv=False, conv_type='depthwise'), BlockConfig(input_filters=24, output_filters=40, kernel_size=5, num_repeat=2, expand_ratio=6, strides=(2, 2), se_ratio=0.25, id_skip=True, fused_conv=False, conv_type='depthwise'), BlockConfig(input_filters=40, output_filters=80, kernel_size=3, num_repeat=3, expand_ratio=6, strides=(2, 2), se_ratio=0.25, id_skip=True, fused_conv=False, conv_type='depthwise'), BlockConfig(input_filters=80, output_filters=112, kernel_size=5, num_repeat=3, expand_ratio=6, strides=(1, 1), se_ratio=0.25, id_skip=True, fused_conv=False, conv_type='depthwise'), BlockConfig(input_filters=112, output_filters=192, kernel_size=5, num_repeat=4, expand_ratio=6, strides=(2, 2), se_ratio=0.25, id_skip=True, fused_conv=False, conv_type='depthwise'), BlockConfig(input_filters=192, output_filters=320, kernel_size=3, num_repeat=1, expand_ratio=6, strides=(1, 1), se_ratio=0.25, id_skip=True, fused_conv=False, conv_type='depthwise')), stem_base_filters=32, top_base_filters=1280, activation='simple_swish', batch_norm='default', bn_momentum=0.99, bn_epsilon=0.001, weight_decay=5e-06, drop_connect_rate=0.2, depth_divisor=8, min_depth=None, use_se=True, input_channels=3, num_classes=1000, model_name='efficientnet', rescale_input=False, data_format='channels_last', dtype='float32')\n",
      "I0612 18:34:48.109683 42728 ssd_efficientnet_bifpn_feature_extractor.py:145] EfficientDet EfficientNet backbone version: efficientnet-b2\n",
      "I0612 18:34:48.109683 42728 ssd_efficientnet_bifpn_feature_extractor.py:147] EfficientDet BiFPN num filters: 112\n",
      "I0612 18:34:48.109683 42728 ssd_efficientnet_bifpn_feature_extractor.py:148] EfficientDet BiFPN num iterations: 5\n",
      "I0612 18:34:48.110671 42728 efficientnet_model.py:143] round_filter input=32 output=32\n",
      "I0612 18:34:48.129599 42728 efficientnet_model.py:143] round_filter input=32 output=32\n",
      "I0612 18:34:48.129599 42728 efficientnet_model.py:143] round_filter input=16 output=16\n",
      "I0612 18:34:48.283937 42728 efficientnet_model.py:143] round_filter input=16 output=16\n",
      "I0612 18:34:48.283937 42728 efficientnet_model.py:143] round_filter input=24 output=24\n",
      "I0612 18:34:48.573166 42728 efficientnet_model.py:143] round_filter input=24 output=24\n",
      "I0612 18:34:48.573166 42728 efficientnet_model.py:143] round_filter input=40 output=48\n",
      "I0612 18:34:48.931208 42728 efficientnet_model.py:143] round_filter input=40 output=48\n",
      "I0612 18:34:48.931208 42728 efficientnet_model.py:143] round_filter input=80 output=88\n",
      "I0612 18:34:49.493319 42728 efficientnet_model.py:143] round_filter input=80 output=88\n",
      "I0612 18:34:49.493319 42728 efficientnet_model.py:143] round_filter input=112 output=120\n",
      "I0612 18:34:50.066368 42728 efficientnet_model.py:143] round_filter input=112 output=120\n",
      "I0612 18:34:50.066368 42728 efficientnet_model.py:143] round_filter input=192 output=208\n",
      "I0612 18:34:50.627867 42728 efficientnet_model.py:143] round_filter input=192 output=208\n",
      "I0612 18:34:50.627867 42728 efficientnet_model.py:143] round_filter input=320 output=352\n",
      "I0612 18:34:50.824368 42728 efficientnet_model.py:143] round_filter input=1280 output=1408\n",
      "I0612 18:34:50.858282 42728 efficientnet_model.py:453] Building model efficientnet with params ModelConfig(width_coefficient=1.1, depth_coefficient=1.2, resolution=260, dropout_rate=0.3, blocks=(BlockConfig(input_filters=32, output_filters=16, kernel_size=3, num_repeat=1, expand_ratio=1, strides=(1, 1), se_ratio=0.25, id_skip=True, fused_conv=False, conv_type='depthwise'), BlockConfig(input_filters=16, output_filters=24, kernel_size=3, num_repeat=2, expand_ratio=6, strides=(2, 2), se_ratio=0.25, id_skip=True, fused_conv=False, conv_type='depthwise'), BlockConfig(input_filters=24, output_filters=40, kernel_size=5, num_repeat=2, expand_ratio=6, strides=(2, 2), se_ratio=0.25, id_skip=True, fused_conv=False, conv_type='depthwise'), BlockConfig(input_filters=40, output_filters=80, kernel_size=3, num_repeat=3, expand_ratio=6, strides=(2, 2), se_ratio=0.25, id_skip=True, fused_conv=False, conv_type='depthwise'), BlockConfig(input_filters=80, output_filters=112, kernel_size=5, num_repeat=3, expand_ratio=6, strides=(1, 1), se_ratio=0.25, id_skip=True, fused_conv=False, conv_type='depthwise'), BlockConfig(input_filters=112, output_filters=192, kernel_size=5, num_repeat=4, expand_ratio=6, strides=(2, 2), se_ratio=0.25, id_skip=True, fused_conv=False, conv_type='depthwise'), BlockConfig(input_filters=192, output_filters=320, kernel_size=3, num_repeat=1, expand_ratio=6, strides=(1, 1), se_ratio=0.25, id_skip=True, fused_conv=False, conv_type='depthwise')), stem_base_filters=32, top_base_filters=1280, activation='simple_swish', batch_norm='default', bn_momentum=0.99, bn_epsilon=0.001, weight_decay=5e-06, drop_connect_rate=0.2, depth_divisor=8, min_depth=None, use_se=True, input_channels=3, num_classes=1000, model_name='efficientnet', rescale_input=False, data_format='channels_last', dtype='float32')\n",
      "I0612 18:34:50.926665 42728 ssd_efficientnet_bifpn_feature_extractor.py:145] EfficientDet EfficientNet backbone version: efficientnet-b3\n",
      "I0612 18:34:50.926665 42728 ssd_efficientnet_bifpn_feature_extractor.py:147] EfficientDet BiFPN num filters: 160\n",
      "I0612 18:34:50.927628 42728 ssd_efficientnet_bifpn_feature_extractor.py:148] EfficientDet BiFPN num iterations: 6\n",
      "I0612 18:34:50.928659 42728 efficientnet_model.py:143] round_filter input=32 output=40\n",
      "I0612 18:34:50.945614 42728 efficientnet_model.py:143] round_filter input=32 output=40\n",
      "I0612 18:34:50.945614 42728 efficientnet_model.py:143] round_filter input=16 output=24\n",
      "I0612 18:34:51.091192 42728 efficientnet_model.py:143] round_filter input=16 output=24\n",
      "I0612 18:34:51.091192 42728 efficientnet_model.py:143] round_filter input=24 output=32\n",
      "I0612 18:34:51.377943 42728 efficientnet_model.py:143] round_filter input=24 output=32\n",
      "I0612 18:34:51.377943 42728 efficientnet_model.py:143] round_filter input=40 output=48\n",
      "I0612 18:34:51.658696 42728 efficientnet_model.py:143] round_filter input=40 output=48\n",
      "I0612 18:34:51.659692 42728 efficientnet_model.py:143] round_filter input=80 output=96\n",
      "I0612 18:34:52.121463 42728 efficientnet_model.py:143] round_filter input=80 output=96\n",
      "I0612 18:34:52.121463 42728 efficientnet_model.py:143] round_filter input=112 output=136\n",
      "I0612 18:34:52.578213 42728 efficientnet_model.py:143] round_filter input=112 output=136\n",
      "I0612 18:34:52.578213 42728 efficientnet_model.py:143] round_filter input=192 output=232\n",
      "I0612 18:34:53.224996 42728 efficientnet_model.py:143] round_filter input=192 output=232\n",
      "I0612 18:34:53.224996 42728 efficientnet_model.py:143] round_filter input=320 output=384\n",
      "I0612 18:34:53.443411 42728 efficientnet_model.py:143] round_filter input=1280 output=1536\n",
      "I0612 18:34:53.478318 42728 efficientnet_model.py:453] Building model efficientnet with params ModelConfig(width_coefficient=1.2, depth_coefficient=1.4, resolution=300, dropout_rate=0.3, blocks=(BlockConfig(input_filters=32, output_filters=16, kernel_size=3, num_repeat=1, expand_ratio=1, strides=(1, 1), se_ratio=0.25, id_skip=True, fused_conv=False, conv_type='depthwise'), BlockConfig(input_filters=16, output_filters=24, kernel_size=3, num_repeat=2, expand_ratio=6, strides=(2, 2), se_ratio=0.25, id_skip=True, fused_conv=False, conv_type='depthwise'), BlockConfig(input_filters=24, output_filters=40, kernel_size=5, num_repeat=2, expand_ratio=6, strides=(2, 2), se_ratio=0.25, id_skip=True, fused_conv=False, conv_type='depthwise'), BlockConfig(input_filters=40, output_filters=80, kernel_size=3, num_repeat=3, expand_ratio=6, strides=(2, 2), se_ratio=0.25, id_skip=True, fused_conv=False, conv_type='depthwise'), BlockConfig(input_filters=80, output_filters=112, kernel_size=5, num_repeat=3, expand_ratio=6, strides=(1, 1), se_ratio=0.25, id_skip=True, fused_conv=False, conv_type='depthwise'), BlockConfig(input_filters=112, output_filters=192, kernel_size=5, num_repeat=4, expand_ratio=6, strides=(2, 2), se_ratio=0.25, id_skip=True, fused_conv=False, conv_type='depthwise'), BlockConfig(input_filters=192, output_filters=320, kernel_size=3, num_repeat=1, expand_ratio=6, strides=(1, 1), se_ratio=0.25, id_skip=True, fused_conv=False, conv_type='depthwise')), stem_base_filters=32, top_base_filters=1280, activation='simple_swish', batch_norm='default', bn_momentum=0.99, bn_epsilon=0.001, weight_decay=5e-06, drop_connect_rate=0.2, depth_divisor=8, min_depth=None, use_se=True, input_channels=3, num_classes=1000, model_name='efficientnet', rescale_input=False, data_format='channels_last', dtype='float32')\n",
      "I0612 18:34:53.552159 42728 ssd_efficientnet_bifpn_feature_extractor.py:145] EfficientDet EfficientNet backbone version: efficientnet-b4\n",
      "I0612 18:34:53.552159 42728 ssd_efficientnet_bifpn_feature_extractor.py:147] EfficientDet BiFPN num filters: 224\n",
      "I0612 18:34:53.552159 42728 ssd_efficientnet_bifpn_feature_extractor.py:148] EfficientDet BiFPN num iterations: 7\n",
      "I0612 18:34:53.554116 42728 efficientnet_model.py:143] round_filter input=32 output=48\n",
      "I0612 18:34:53.572094 42728 efficientnet_model.py:143] round_filter input=32 output=48\n",
      "I0612 18:34:53.572094 42728 efficientnet_model.py:143] round_filter input=16 output=24\n",
      "I0612 18:34:53.735631 42728 efficientnet_model.py:143] round_filter input=16 output=24\n",
      "I0612 18:34:53.735631 42728 efficientnet_model.py:143] round_filter input=24 output=32\n",
      "I0612 18:34:54.119235 42728 efficientnet_model.py:143] round_filter input=24 output=32\n",
      "I0612 18:34:54.119235 42728 efficientnet_model.py:143] round_filter input=40 output=56\n",
      "I0612 18:34:54.508651 42728 efficientnet_model.py:143] round_filter input=40 output=56\n",
      "I0612 18:34:54.508651 42728 efficientnet_model.py:143] round_filter input=80 output=112\n",
      "I0612 18:34:55.279750 42728 efficientnet_model.py:143] round_filter input=80 output=112\n",
      "I0612 18:34:55.279750 42728 efficientnet_model.py:143] round_filter input=112 output=160\n",
      "I0612 18:34:55.916359 42728 efficientnet_model.py:143] round_filter input=112 output=160\n",
      "I0612 18:34:55.916359 42728 efficientnet_model.py:143] round_filter input=192 output=272\n",
      "I0612 18:34:56.665026 42728 efficientnet_model.py:143] round_filter input=192 output=272\n",
      "I0612 18:34:56.665026 42728 efficientnet_model.py:143] round_filter input=320 output=448\n",
      "I0612 18:34:56.843584 42728 efficientnet_model.py:143] round_filter input=1280 output=1792\n",
      "I0612 18:34:56.881448 42728 efficientnet_model.py:453] Building model efficientnet with params ModelConfig(width_coefficient=1.4, depth_coefficient=1.8, resolution=380, dropout_rate=0.4, blocks=(BlockConfig(input_filters=32, output_filters=16, kernel_size=3, num_repeat=1, expand_ratio=1, strides=(1, 1), se_ratio=0.25, id_skip=True, fused_conv=False, conv_type='depthwise'), BlockConfig(input_filters=16, output_filters=24, kernel_size=3, num_repeat=2, expand_ratio=6, strides=(2, 2), se_ratio=0.25, id_skip=True, fused_conv=False, conv_type='depthwise'), BlockConfig(input_filters=24, output_filters=40, kernel_size=5, num_repeat=2, expand_ratio=6, strides=(2, 2), se_ratio=0.25, id_skip=True, fused_conv=False, conv_type='depthwise'), BlockConfig(input_filters=40, output_filters=80, kernel_size=3, num_repeat=3, expand_ratio=6, strides=(2, 2), se_ratio=0.25, id_skip=True, fused_conv=False, conv_type='depthwise'), BlockConfig(input_filters=80, output_filters=112, kernel_size=5, num_repeat=3, expand_ratio=6, strides=(1, 1), se_ratio=0.25, id_skip=True, fused_conv=False, conv_type='depthwise'), BlockConfig(input_filters=112, output_filters=192, kernel_size=5, num_repeat=4, expand_ratio=6, strides=(2, 2), se_ratio=0.25, id_skip=True, fused_conv=False, conv_type='depthwise'), BlockConfig(input_filters=192, output_filters=320, kernel_size=3, num_repeat=1, expand_ratio=6, strides=(1, 1), se_ratio=0.25, id_skip=True, fused_conv=False, conv_type='depthwise')), stem_base_filters=32, top_base_filters=1280, activation='simple_swish', batch_norm='default', bn_momentum=0.99, bn_epsilon=0.001, weight_decay=5e-06, drop_connect_rate=0.2, depth_divisor=8, min_depth=None, use_se=True, input_channels=3, num_classes=1000, model_name='efficientnet', rescale_input=False, data_format='channels_last', dtype='float32')\n",
      "I0612 18:34:56.974198 42728 ssd_efficientnet_bifpn_feature_extractor.py:145] EfficientDet EfficientNet backbone version: efficientnet-b5\n",
      "I0612 18:34:56.974198 42728 ssd_efficientnet_bifpn_feature_extractor.py:147] EfficientDet BiFPN num filters: 288\n",
      "I0612 18:34:56.974198 42728 ssd_efficientnet_bifpn_feature_extractor.py:148] EfficientDet BiFPN num iterations: 7\n",
      "I0612 18:34:56.976193 42728 efficientnet_model.py:143] round_filter input=32 output=48\n",
      "I0612 18:34:56.994181 42728 efficientnet_model.py:143] round_filter input=32 output=48\n",
      "I0612 18:34:56.994181 42728 efficientnet_model.py:143] round_filter input=16 output=24\n",
      "I0612 18:34:57.201626 42728 efficientnet_model.py:143] round_filter input=16 output=24\n",
      "I0612 18:34:57.201626 42728 efficientnet_model.py:143] round_filter input=24 output=40\n",
      "I0612 18:34:57.677326 42728 efficientnet_model.py:143] round_filter input=24 output=40\n",
      "I0612 18:34:57.678327 42728 efficientnet_model.py:143] round_filter input=40 output=64\n",
      "I0612 18:34:58.188670 42728 efficientnet_model.py:143] round_filter input=40 output=64\n",
      "I0612 18:34:58.188670 42728 efficientnet_model.py:143] round_filter input=80 output=128\n",
      "I0612 18:34:58.840472 42728 efficientnet_model.py:143] round_filter input=80 output=128\n",
      "I0612 18:34:58.840472 42728 efficientnet_model.py:143] round_filter input=112 output=176\n",
      "I0612 18:34:59.463580 42728 efficientnet_model.py:143] round_filter input=112 output=176\n",
      "I0612 18:34:59.463580 42728 efficientnet_model.py:143] round_filter input=192 output=304\n",
      "I0612 18:35:00.267429 42728 efficientnet_model.py:143] round_filter input=192 output=304\n",
      "I0612 18:35:00.267429 42728 efficientnet_model.py:143] round_filter input=320 output=512\n",
      "I0612 18:35:00.530297 42728 efficientnet_model.py:143] round_filter input=1280 output=2048\n",
      "I0612 18:35:00.566208 42728 efficientnet_model.py:453] Building model efficientnet with params ModelConfig(width_coefficient=1.6, depth_coefficient=2.2, resolution=456, dropout_rate=0.4, blocks=(BlockConfig(input_filters=32, output_filters=16, kernel_size=3, num_repeat=1, expand_ratio=1, strides=(1, 1), se_ratio=0.25, id_skip=True, fused_conv=False, conv_type='depthwise'), BlockConfig(input_filters=16, output_filters=24, kernel_size=3, num_repeat=2, expand_ratio=6, strides=(2, 2), se_ratio=0.25, id_skip=True, fused_conv=False, conv_type='depthwise'), BlockConfig(input_filters=24, output_filters=40, kernel_size=5, num_repeat=2, expand_ratio=6, strides=(2, 2), se_ratio=0.25, id_skip=True, fused_conv=False, conv_type='depthwise'), BlockConfig(input_filters=40, output_filters=80, kernel_size=3, num_repeat=3, expand_ratio=6, strides=(2, 2), se_ratio=0.25, id_skip=True, fused_conv=False, conv_type='depthwise'), BlockConfig(input_filters=80, output_filters=112, kernel_size=5, num_repeat=3, expand_ratio=6, strides=(1, 1), se_ratio=0.25, id_skip=True, fused_conv=False, conv_type='depthwise'), BlockConfig(input_filters=112, output_filters=192, kernel_size=5, num_repeat=4, expand_ratio=6, strides=(2, 2), se_ratio=0.25, id_skip=True, fused_conv=False, conv_type='depthwise'), BlockConfig(input_filters=192, output_filters=320, kernel_size=3, num_repeat=1, expand_ratio=6, strides=(1, 1), se_ratio=0.25, id_skip=True, fused_conv=False, conv_type='depthwise')), stem_base_filters=32, top_base_filters=1280, activation='simple_swish', batch_norm='default', bn_momentum=0.99, bn_epsilon=0.001, weight_decay=5e-06, drop_connect_rate=0.2, depth_divisor=8, min_depth=None, use_se=True, input_channels=3, num_classes=1000, model_name='efficientnet', rescale_input=False, data_format='channels_last', dtype='float32')\n",
      "I0612 18:35:00.665940 42728 ssd_efficientnet_bifpn_feature_extractor.py:145] EfficientDet EfficientNet backbone version: efficientnet-b6\n",
      "I0612 18:35:00.665940 42728 ssd_efficientnet_bifpn_feature_extractor.py:147] EfficientDet BiFPN num filters: 384\n",
      "I0612 18:35:00.665940 42728 ssd_efficientnet_bifpn_feature_extractor.py:148] EfficientDet BiFPN num iterations: 8\n",
      "I0612 18:35:00.666938 42728 efficientnet_model.py:143] round_filter input=32 output=56\n",
      "I0612 18:35:00.684860 42728 efficientnet_model.py:143] round_filter input=32 output=56\n",
      "I0612 18:35:00.684860 42728 efficientnet_model.py:143] round_filter input=16 output=32\n",
      "I0612 18:35:00.911694 42728 efficientnet_model.py:143] round_filter input=16 output=32\n",
      "I0612 18:35:00.912687 42728 efficientnet_model.py:143] round_filter input=24 output=40\n",
      "I0612 18:35:01.508428 42728 efficientnet_model.py:143] round_filter input=24 output=40\n",
      "I0612 18:35:01.508428 42728 efficientnet_model.py:143] round_filter input=40 output=72\n",
      "I0612 18:35:02.262958 42728 efficientnet_model.py:143] round_filter input=40 output=72\n",
      "I0612 18:35:02.262958 42728 efficientnet_model.py:143] round_filter input=80 output=144\n",
      "I0612 18:35:02.985542 42728 efficientnet_model.py:143] round_filter input=80 output=144\n",
      "I0612 18:35:02.986505 42728 efficientnet_model.py:143] round_filter input=112 output=200\n",
      "I0612 18:35:03.741222 42728 efficientnet_model.py:143] round_filter input=112 output=200\n",
      "I0612 18:35:03.741222 42728 efficientnet_model.py:143] round_filter input=192 output=344\n",
      "I0612 18:35:04.756473 42728 efficientnet_model.py:143] round_filter input=192 output=344\n",
      "I0612 18:35:04.756473 42728 efficientnet_model.py:143] round_filter input=320 output=576\n",
      "I0612 18:35:05.031743 42728 efficientnet_model.py:143] round_filter input=1280 output=2304\n",
      "I0612 18:35:05.065651 42728 efficientnet_model.py:453] Building model efficientnet with params ModelConfig(width_coefficient=1.8, depth_coefficient=2.6, resolution=528, dropout_rate=0.5, blocks=(BlockConfig(input_filters=32, output_filters=16, kernel_size=3, num_repeat=1, expand_ratio=1, strides=(1, 1), se_ratio=0.25, id_skip=True, fused_conv=False, conv_type='depthwise'), BlockConfig(input_filters=16, output_filters=24, kernel_size=3, num_repeat=2, expand_ratio=6, strides=(2, 2), se_ratio=0.25, id_skip=True, fused_conv=False, conv_type='depthwise'), BlockConfig(input_filters=24, output_filters=40, kernel_size=5, num_repeat=2, expand_ratio=6, strides=(2, 2), se_ratio=0.25, id_skip=True, fused_conv=False, conv_type='depthwise'), BlockConfig(input_filters=40, output_filters=80, kernel_size=3, num_repeat=3, expand_ratio=6, strides=(2, 2), se_ratio=0.25, id_skip=True, fused_conv=False, conv_type='depthwise'), BlockConfig(input_filters=80, output_filters=112, kernel_size=5, num_repeat=3, expand_ratio=6, strides=(1, 1), se_ratio=0.25, id_skip=True, fused_conv=False, conv_type='depthwise'), BlockConfig(input_filters=112, output_filters=192, kernel_size=5, num_repeat=4, expand_ratio=6, strides=(2, 2), se_ratio=0.25, id_skip=True, fused_conv=False, conv_type='depthwise'), BlockConfig(input_filters=192, output_filters=320, kernel_size=3, num_repeat=1, expand_ratio=6, strides=(1, 1), se_ratio=0.25, id_skip=True, fused_conv=False, conv_type='depthwise')), stem_base_filters=32, top_base_filters=1280, activation='simple_swish', batch_norm='default', bn_momentum=0.99, bn_epsilon=0.001, weight_decay=5e-06, drop_connect_rate=0.2, depth_divisor=8, min_depth=None, use_se=True, input_channels=3, num_classes=1000, model_name='efficientnet', rescale_input=False, data_format='channels_last', dtype='float32')\n",
      "I0612 18:35:05.178350 42728 ssd_efficientnet_bifpn_feature_extractor.py:145] EfficientDet EfficientNet backbone version: efficientnet-b7\n",
      "I0612 18:35:05.178350 42728 ssd_efficientnet_bifpn_feature_extractor.py:147] EfficientDet BiFPN num filters: 384\n",
      "I0612 18:35:05.179314 42728 ssd_efficientnet_bifpn_feature_extractor.py:148] EfficientDet BiFPN num iterations: 8\n",
      "I0612 18:35:05.180344 42728 efficientnet_model.py:143] round_filter input=32 output=64\n",
      "I0612 18:35:05.198265 42728 efficientnet_model.py:143] round_filter input=32 output=64\n",
      "I0612 18:35:05.198265 42728 efficientnet_model.py:143] round_filter input=16 output=32\n",
      "I0612 18:35:05.492448 42728 efficientnet_model.py:143] round_filter input=16 output=32\n",
      "I0612 18:35:05.492448 42728 efficientnet_model.py:143] round_filter input=24 output=48\n",
      "I0612 18:35:06.140895 42728 efficientnet_model.py:143] round_filter input=24 output=48\n",
      "I0612 18:35:06.140895 42728 efficientnet_model.py:143] round_filter input=40 output=80\n",
      "I0612 18:35:06.780186 42728 efficientnet_model.py:143] round_filter input=40 output=80\n",
      "I0612 18:35:06.781183 42728 efficientnet_model.py:143] round_filter input=80 output=160\n",
      "I0612 18:35:07.690738 42728 efficientnet_model.py:143] round_filter input=80 output=160\n",
      "I0612 18:35:07.691750 42728 efficientnet_model.py:143] round_filter input=112 output=224\n",
      "I0612 18:35:08.612346 42728 efficientnet_model.py:143] round_filter input=112 output=224\n",
      "I0612 18:35:08.612346 42728 efficientnet_model.py:143] round_filter input=192 output=384\n",
      "I0612 18:35:09.978750 42728 efficientnet_model.py:143] round_filter input=192 output=384\n",
      "I0612 18:35:09.978750 42728 efficientnet_model.py:143] round_filter input=320 output=640\n",
      "I0612 18:35:10.335799 42728 efficientnet_model.py:143] round_filter input=1280 output=2560\n",
      "I0612 18:35:10.369699 42728 efficientnet_model.py:453] Building model efficientnet with params ModelConfig(width_coefficient=2.0, depth_coefficient=3.1, resolution=600, dropout_rate=0.5, blocks=(BlockConfig(input_filters=32, output_filters=16, kernel_size=3, num_repeat=1, expand_ratio=1, strides=(1, 1), se_ratio=0.25, id_skip=True, fused_conv=False, conv_type='depthwise'), BlockConfig(input_filters=16, output_filters=24, kernel_size=3, num_repeat=2, expand_ratio=6, strides=(2, 2), se_ratio=0.25, id_skip=True, fused_conv=False, conv_type='depthwise'), BlockConfig(input_filters=24, output_filters=40, kernel_size=5, num_repeat=2, expand_ratio=6, strides=(2, 2), se_ratio=0.25, id_skip=True, fused_conv=False, conv_type='depthwise'), BlockConfig(input_filters=40, output_filters=80, kernel_size=3, num_repeat=3, expand_ratio=6, strides=(2, 2), se_ratio=0.25, id_skip=True, fused_conv=False, conv_type='depthwise'), BlockConfig(input_filters=80, output_filters=112, kernel_size=5, num_repeat=3, expand_ratio=6, strides=(1, 1), se_ratio=0.25, id_skip=True, fused_conv=False, conv_type='depthwise'), BlockConfig(input_filters=112, output_filters=192, kernel_size=5, num_repeat=4, expand_ratio=6, strides=(2, 2), se_ratio=0.25, id_skip=True, fused_conv=False, conv_type='depthwise'), BlockConfig(input_filters=192, output_filters=320, kernel_size=3, num_repeat=1, expand_ratio=6, strides=(1, 1), se_ratio=0.25, id_skip=True, fused_conv=False, conv_type='depthwise')), stem_base_filters=32, top_base_filters=1280, activation='simple_swish', batch_norm='default', bn_momentum=0.99, bn_epsilon=0.001, weight_decay=5e-06, drop_connect_rate=0.2, depth_divisor=8, min_depth=None, use_se=True, input_channels=3, num_classes=1000, model_name='efficientnet', rescale_input=False, data_format='channels_last', dtype='float32')\n",
      "INFO:tensorflow:time(__main__.ModelBuilderTF2Test.test_create_ssd_models_from_config): 26.48s\n",
      "I0612 18:35:10.500018 42728 test_util.py:2458] time(__main__.ModelBuilderTF2Test.test_create_ssd_models_from_config): 26.48s\n",
      "[       OK ] ModelBuilderTF2Test.test_create_ssd_models_from_config\n",
      "[ RUN      ] ModelBuilderTF2Test.test_invalid_faster_rcnn_batchnorm_update\n",
      "INFO:tensorflow:time(__main__.ModelBuilderTF2Test.test_invalid_faster_rcnn_batchnorm_update): 0.0s\n",
      "I0612 18:35:10.507002 42728 test_util.py:2458] time(__main__.ModelBuilderTF2Test.test_invalid_faster_rcnn_batchnorm_update): 0.0s\n",
      "[       OK ] ModelBuilderTF2Test.test_invalid_faster_rcnn_batchnorm_update\n",
      "[ RUN      ] ModelBuilderTF2Test.test_invalid_first_stage_nms_iou_threshold\n",
      "INFO:tensorflow:time(__main__.ModelBuilderTF2Test.test_invalid_first_stage_nms_iou_threshold): 0.0s\n",
      "I0612 18:35:10.507997 42728 test_util.py:2458] time(__main__.ModelBuilderTF2Test.test_invalid_first_stage_nms_iou_threshold): 0.0s\n",
      "[       OK ] ModelBuilderTF2Test.test_invalid_first_stage_nms_iou_threshold\n",
      "[ RUN      ] ModelBuilderTF2Test.test_invalid_model_config_proto\n",
      "INFO:tensorflow:time(__main__.ModelBuilderTF2Test.test_invalid_model_config_proto): 0.0s\n",
      "I0612 18:35:10.508962 42728 test_util.py:2458] time(__main__.ModelBuilderTF2Test.test_invalid_model_config_proto): 0.0s\n",
      "[       OK ] ModelBuilderTF2Test.test_invalid_model_config_proto\n",
      "[ RUN      ] ModelBuilderTF2Test.test_invalid_second_stage_batch_size\n",
      "INFO:tensorflow:time(__main__.ModelBuilderTF2Test.test_invalid_second_stage_batch_size): 0.0s\n",
      "I0612 18:35:10.509992 42728 test_util.py:2458] time(__main__.ModelBuilderTF2Test.test_invalid_second_stage_batch_size): 0.0s\n",
      "[       OK ] ModelBuilderTF2Test.test_invalid_second_stage_batch_size\n",
      "[ RUN      ] ModelBuilderTF2Test.test_session\n",
      "[  SKIPPED ] ModelBuilderTF2Test.test_session\n",
      "[ RUN      ] ModelBuilderTF2Test.test_unknown_faster_rcnn_feature_extractor\n",
      "INFO:tensorflow:time(__main__.ModelBuilderTF2Test.test_unknown_faster_rcnn_feature_extractor): 0.0s\n",
      "I0612 18:35:10.510956 42728 test_util.py:2458] time(__main__.ModelBuilderTF2Test.test_unknown_faster_rcnn_feature_extractor): 0.0s\n",
      "[       OK ] ModelBuilderTF2Test.test_unknown_faster_rcnn_feature_extractor\n",
      "[ RUN      ] ModelBuilderTF2Test.test_unknown_meta_architecture\n",
      "INFO:tensorflow:time(__main__.ModelBuilderTF2Test.test_unknown_meta_architecture): 0.0s\n",
      "I0612 18:35:10.511953 42728 test_util.py:2458] time(__main__.ModelBuilderTF2Test.test_unknown_meta_architecture): 0.0s\n",
      "[       OK ] ModelBuilderTF2Test.test_unknown_meta_architecture\n",
      "[ RUN      ] ModelBuilderTF2Test.test_unknown_ssd_feature_extractor\n",
      "INFO:tensorflow:time(__main__.ModelBuilderTF2Test.test_unknown_ssd_feature_extractor): 0.0s\n",
      "I0612 18:35:10.511953 42728 test_util.py:2458] time(__main__.ModelBuilderTF2Test.test_unknown_ssd_feature_extractor): 0.0s\n",
      "[       OK ] ModelBuilderTF2Test.test_unknown_ssd_feature_extractor\n",
      "----------------------------------------------------------------------\n",
      "Ran 24 tests in 33.051s\n",
      "\n",
      "OK (skipped=1)\n"
     ]
    }
   ],
   "source": [
    "!python ./models/research/object_detection/builders/model_builder_tf2_test.py"
   ]
  },
  {
   "cell_type": "markdown",
   "id": "7d5cad10",
   "metadata": {},
   "source": [
    "# Preprocess data"
   ]
  },
  {
   "cell_type": "code",
   "execution_count": 27,
   "id": "interesting-biology",
   "metadata": {},
   "outputs": [],
   "source": [
    "import os \n",
    "from os import path\n",
    "import glob\n",
    "import pandas as pd\n",
    "import xml.etree.ElementTree as ET\n",
    "import wget\n",
    "from sklearn.model_selection import train_test_split\n",
    "\n",
    "\n",
    "IMG_DIR = \"./images/raw\"\n",
    "SAVE_DIR = \"./images/processed\"\n",
    "XML_DIR = \"./annotation/xml\"\n",
    "XML_RAW_DIR = \"./annotation/raw_xml\"\n",
    "\n",
    "if not path.exists('dataset'):\n",
    "  os.mkdir('dataset')"
   ]
  },
  {
   "cell_type": "code",
   "execution_count": 13,
   "id": "62b30c02",
   "metadata": {
    "scrolled": false
   },
   "outputs": [
    {
     "data": {
      "text/plain": [
       "'processed 84 images.'"
      ]
     },
     "execution_count": 13,
     "metadata": {},
     "output_type": "execute_result"
    }
   ],
   "source": [
    "# optional pre process image\n",
    "from PIL import Image\n",
    "import matplotlib.pyplot as plt\n",
    "import cv2\n",
    "\n",
    "def crop_center(pil_img, frac):\n",
    "    left = img.size[0]*((1-frac)/2)\n",
    "    upper = img.size[1]*((1-frac)/2)\n",
    "    right = img.size[0]-((1-frac)/2)*img.size[0]\n",
    "    bottom = img.size[1]-((1-frac)/2)*img.size[1]\n",
    "    \n",
    "    return img.crop((left, upper, right, bottom))\n",
    "\n",
    "def crop_center_fixed(img, size):\n",
    "    width, height = img.size\n",
    "\n",
    "    left = (width - size)/2\n",
    "    top = (height - size)/2\n",
    "    right = (width + size)/2\n",
    "    bottom = (height + size)/2\n",
    "    \n",
    "    return img.crop((left, top, right, bottom))\n",
    "\n",
    "def preprocess_cv2():\n",
    "    for i, path in enumerate(os.listdir(IMG_DIR)):\n",
    "        img = cv2.imread(os.path.join(IMG_DIR, path))\n",
    "        img = cv2.cvtColor(img, cv2.COLOR_BGR2RGB)\n",
    "\n",
    "        # reduce height\n",
    "        if img.shape[0] > 640:\n",
    "            h = int(img.shape[0] * 0.15)\n",
    "            img = img[h:h+640]\n",
    "\n",
    "        # cut into multiple columns\n",
    "        for c in range(0, img.shape[1], 640):\n",
    "            img_name =  str(i+1) + '_image_' + str(c) + '.jpg'\n",
    "            img_final = img[0:640, c:c+640,:]\n",
    "            cv2.imwrite(os.path.join(SAVE_DIR, img_name), img_final)\n",
    "\n",
    "        if (i+1)%10 == 0: \n",
    "            plt.figure(figsize=(8,6))\n",
    "            plt.imshow(img)\n",
    "        if i+1 == 1: break\n",
    "            \n",
    "def preprocess_pil():\n",
    "    size = (1280, 640)\n",
    "    left = (0, 0, 640, 640)\n",
    "    right = (640, 0, 1280, 640)\n",
    "    crops = {'left': left, 'right': right}\n",
    "    for i, path in enumerate(os.listdir(IMG_DIR)):\n",
    "        img = Image.open(os.path.join(IMG_DIR, path))\n",
    "        img = img.convert('RGB')\n",
    "        img = img.resize(size)\n",
    "        \n",
    "        for k, v in crops.items():\n",
    "            proc = img.crop(v)\n",
    "            proc.save(f\"{SAVE_DIR}/{path.split('.')[0]}_{k}.jpg\")\n",
    "        \n",
    "    return 'processed ' + str(i+1) + ' images.'\n",
    "\n",
    "preprocess_pil()"
   ]
  },
  {
   "cell_type": "code",
   "execution_count": 28,
   "id": "27ffb123",
   "metadata": {},
   "outputs": [],
   "source": [
    "# create label_img.pbtxt\n",
    "def create_label_img(classes):    \n",
    "    with open('./annotation/label_map.pbtxt', 'w') as f:\n",
    "        for i, val in enumerate(classes):\n",
    "            append = \"\" if i==0 else \"\\n\"\n",
    "            item = append + \"item {\\n\\tname: \\\"\" + val + \"\\\" \\n\\tid: \" + str(i+1) +\"\\n}\"\n",
    "            f.write(item)\n",
    "    print('Created label map for ' + str(classes))"
   ]
  },
  {
   "cell_type": "code",
   "execution_count": 29,
   "id": "c393abe8",
   "metadata": {},
   "outputs": [],
   "source": [
    "# turn .xml files into csv\n",
    "def xml_to_csv(path):\n",
    "    xml_list = []\n",
    "    for xml_file in glob.glob(path + '/*.xml'):\n",
    "        tree = ET.parse(xml_file)\n",
    "        root = tree.getroot()\n",
    "        for member in root.findall('object'):\n",
    "            value = (\n",
    "                root.find('filename').text,\n",
    "                int(root.find('size')[0].text),\n",
    "                int(root.find('size')[1].text),\n",
    "                member[0].text,\n",
    "                int(member[4][0].text),\n",
    "                int(member[4][1].text),\n",
    "                int(member[4][2].text),\n",
    "                int(member[4][3].text)\n",
    "            )\n",
    "            xml_list.append(value)\n",
    "    col_name = ['filename', 'width', 'height', 'class', 'xmin', 'ymin', 'xmax', 'ymax']\n",
    "    xml_df = pd.DataFrame(xml_list, columns=col_name)\n",
    "    return xml_df\n",
    "\n",
    "xml_df = xml_to_csv(XML_DIR)\n",
    "\n",
    "train_data, test_data = train_test_split(xml_df, test_size=0.2, random_state=69)"
   ]
  },
  {
   "cell_type": "code",
   "execution_count": 30,
   "id": "ded0e707",
   "metadata": {},
   "outputs": [
    {
     "data": {
      "text/plain": [
       "class\n",
       "melantha    18\n",
       "steward     16\n",
       "beagle      14\n",
       "hibiscus    14\n",
       "ansel       13\n",
       "lava        13\n",
       "popukar     13\n",
       "spot        13\n",
       "plume       12\n",
       "vanilla     12\n",
       "kroos       11\n",
       "midnight    11\n",
       "cardigan    10\n",
       "fang        10\n",
       "catapult     7\n",
       "orchid       7\n",
       "dtype: int64"
      ]
     },
     "execution_count": 30,
     "metadata": {},
     "output_type": "execute_result"
    }
   ],
   "source": [
    "xml_df.value_counts('class')"
   ]
  },
  {
   "cell_type": "code",
   "execution_count": 31,
   "id": "9376c227",
   "metadata": {},
   "outputs": [
    {
     "data": {
      "text/plain": [
       "class\n",
       "hibiscus    13\n",
       "melantha    13\n",
       "beagle      12\n",
       "steward     12\n",
       "ansel       11\n",
       "lava        11\n",
       "popukar     11\n",
       "spot        11\n",
       "cardigan     9\n",
       "midnight     9\n",
       "vanilla      9\n",
       "plume        8\n",
       "fang         7\n",
       "kroos        7\n",
       "catapult     6\n",
       "orchid       6\n",
       "dtype: int64"
      ]
     },
     "execution_count": 31,
     "metadata": {},
     "output_type": "execute_result"
    }
   ],
   "source": [
    "train_data.value_counts('class')"
   ]
  },
  {
   "cell_type": "code",
   "execution_count": 32,
   "id": "08cc99cf",
   "metadata": {},
   "outputs": [
    {
     "data": {
      "text/plain": [
       "class\n",
       "ansel       9\n",
       "beagle      9\n",
       "cardigan    9\n",
       "catapult    9\n",
       "fang        9\n",
       "hibiscus    9\n",
       "kroos       9\n",
       "lava        9\n",
       "melantha    9\n",
       "midnight    9\n",
       "orchid      9\n",
       "plume       9\n",
       "popukar     9\n",
       "spot        9\n",
       "steward     9\n",
       "vanilla     9\n",
       "dtype: int64"
      ]
     },
     "execution_count": 32,
     "metadata": {},
     "output_type": "execute_result"
    }
   ],
   "source": [
    "# downsample majority classes\n",
    "from sklearn.utils import resample\n",
    "\n",
    "class_counts = train_data.value_counts('class')\n",
    "class_sum = 0\n",
    "class_avg = 0\n",
    "for count in class_counts:\n",
    "    class_sum = class_sum + count\n",
    "    \n",
    "class_avg = int(class_sum/len(class_counts))\n",
    "\n",
    "train_majority = train_data.groupby('class').filter(lambda x: len(x) > class_avg)\n",
    "train_minority = train_data.groupby('class').filter(lambda x: len(x) <= class_avg)\n",
    "\n",
    "def resampling(df, avg):\n",
    "    temp = pd.DataFrame()\n",
    "    for classes in df['class'].unique():\n",
    "        data = df[df['class'] == classes]\n",
    "        resampled = resample(data, n_samples=avg, random_state=69)\n",
    "        temp = pd.concat([temp, resampled])\n",
    "    return temp\n",
    "    \n",
    "downsampled = resampling(train_majority, class_avg)\n",
    "upsampled = resampling(train_minority, class_avg)\n",
    "\n",
    "train_data = pd.DataFrame()\n",
    "train_data = pd.concat([downsampled, upsampled])\n",
    "train_data.value_counts('class')"
   ]
  },
  {
   "cell_type": "code",
   "execution_count": 33,
   "id": "837f367c",
   "metadata": {
    "scrolled": true
   },
   "outputs": [
    {
     "data": {
      "text/plain": [
       "class\n",
       "melantha    5\n",
       "kroos       4\n",
       "plume       4\n",
       "steward     4\n",
       "fang        3\n",
       "vanilla     3\n",
       "ansel       2\n",
       "beagle      2\n",
       "lava        2\n",
       "midnight    2\n",
       "popukar     2\n",
       "spot        2\n",
       "cardigan    1\n",
       "catapult    1\n",
       "hibiscus    1\n",
       "orchid      1\n",
       "dtype: int64"
      ]
     },
     "execution_count": 33,
     "metadata": {},
     "output_type": "execute_result"
    }
   ],
   "source": [
    "test_data.value_counts('class')"
   ]
  },
  {
   "cell_type": "code",
   "execution_count": 34,
   "id": "ec9db003",
   "metadata": {},
   "outputs": [
    {
     "name": "stdout",
     "output_type": "stream",
     "text": [
      "Created label map for ['hibiscus' 'popukar' 'melantha' 'lava' 'midnight' 'spot' 'cardigan'\n",
      " 'beagle' 'steward' 'plume' 'orchid' 'ansel' 'vanilla' 'fang' 'kroos'\n",
      " 'catapult']\n",
      "16\n",
      "Train data: 16\n",
      "Test data: 16\n",
      "                    filename  width  height  class  xmin  ymin  xmax  ymax\n",
      "164   1651165472990_left.jpg    640     640  ansel   151   194   273   324\n",
      "152   1651165401052_left.jpg    640     640  ansel   149   201   272   314\n",
      "107   1629312056176_left.jpg    640     640  ansel   455   194   545   326\n",
      "82   1629306745515_right.jpg    640     640  ansel   490   188   611   330\n",
      "17   1629306252581_right.jpg    640     640  ansel   321   188   424   340\n",
      "                    filename  width  height    class  xmin  ymin  xmax  ymax\n",
      "182  1651165551493_right.jpg    640     640  steward   107   174   210   311\n",
      "97   1629308257499_right.jpg    640     640     fang   104   195   211   323\n",
      "172  1651165482319_right.jpg    640     640  vanilla   206   178   308   340\n",
      "92    1629308110407_left.jpg    640     640    ansel   149   185   271   316\n",
      "81   1629306745515_right.jpg    640     640     spot   367   183   490   334\n"
     ]
    }
   ],
   "source": [
    "train_data.to_csv('dataset/train_annot.csv', index=None)\n",
    "test_data.to_csv('dataset/test_annot.csv', index=None)\n",
    "\n",
    "create_label_img(xml_df['class'].unique())\n",
    "print(xml_df['class'].nunique())\n",
    "print(\"Train data: {}\".format(train_data['class'].nunique()))\n",
    "print(\"Test data: {}\".format(test_data['class'].nunique()))\n",
    "print(train_data.head())\n",
    "print(test_data.head())"
   ]
  },
  {
   "cell_type": "code",
   "execution_count": 35,
   "id": "edac3f56",
   "metadata": {},
   "outputs": [
    {
     "name": "stderr",
     "output_type": "stream",
     "text": [
      "INFO:Successfully created the TFRecords: ./dataset/train.record\n",
      "INFO:Successfully created the TFRecords: ./dataset/test.record\n"
     ]
    }
   ],
   "source": [
    "!python generate_tf_records.py \\\n",
    "    -l ./annotation/label_map.pbtxt -o ./dataset/train.record -i ./images/processed -csv ./dataset/train_annot.csv\n",
    "\n",
    "!python generate_tf_records.py \\\n",
    "    -l ./annotation/label_map.pbtxt -o ./dataset/test.record -i ./images/processed -csv ./dataset/test_annot.csv"
   ]
  },
  {
   "cell_type": "code",
   "execution_count": 3,
   "id": "d01f2414",
   "metadata": {
    "scrolled": true
   },
   "outputs": [],
   "source": [
    "# verify tensor records\n",
    "import tensorflow as tf \n",
    "raw_dataset = tf.data.TFRecordDataset(\"records/train.record\")\n",
    "\n",
    "for raw_record in raw_dataset.take(1):\n",
    "    example = tf.train.Example()\n",
    "    example.ParseFromString(raw_record.numpy())"
   ]
  },
  {
   "cell_type": "markdown",
   "id": "e21819ea",
   "metadata": {},
   "source": [
    "# Config"
   ]
  },
  {
   "cell_type": "code",
   "execution_count": 69,
   "id": "808412c6",
   "metadata": {},
   "outputs": [],
   "source": [
    "num_classes = xml_df['class'].nunique()\n",
    "batch_size = 4\n",
    "# num_steps = 5000\n",
    "num_eval_steps = 1000\n",
    "\n",
    "train_record_path = 'records/train.record'\n",
    "test_record_path = 'records/test.record'\n",
    "model_dir = 'models/my_ssd_resnet50_v1_fpn'\n",
    "labelmap_path = 'annotated/label_map.pbtxt'\n",
    "\n",
    "pipeline_config_path = 'models/my_ssd_resnet50_v1_fpn/pipeline.config'\n",
    "fine_tune_checkpoint = 'models_pretrained/ssd_resnet50_v1_fpn_640x640_coco17_tpu-8/checkpoint/ckpt-0'"
   ]
  },
  {
   "cell_type": "code",
   "execution_count": 70,
   "id": "fa51bf9c",
   "metadata": {},
   "outputs": [],
   "source": [
    "import re\n",
    "\n",
    "with open(pipeline_config_path) as f:\n",
    "    config = f.read()\n",
    "\n",
    "with open(pipeline_config_path, 'w') as f:\n",
    "    # Set labelmap path\n",
    "    config = re.sub('label_map_path: \".*?\"', \n",
    "             'label_map_path: \"{}\"'.format(labelmap_path), config)\n",
    "\n",
    "    # Set fine_tune_checkpoint path\n",
    "    config = re.sub('fine_tune_checkpoint: \".*?\"',\n",
    "                  'fine_tune_checkpoint: \"{}\"'.format(fine_tune_checkpoint), config)\n",
    "\n",
    "    # Set train tf-record file path\n",
    "#     config = re.sub('(input_path: \".*?)(PATH_TO_BE_CONFIGURED/train)(.*?\")', \n",
    "#                   'input_path: \"{}\"'.format(train_record_path), config)\n",
    "\n",
    "    # Set test tf-record file path\n",
    "#     config = re.sub('(input_path: \".*?)(PATH_TO_BE_CONFIGURED/val)(.*?\")', \n",
    "#                   'input_path: \"{}\"'.format(test_record_path), config)\n",
    "\n",
    "    # Set number of classes.\n",
    "    config = re.sub('num_classes: [0-9]+',\n",
    "                  'num_classes: {}'.format(num_classes), config)\n",
    "\n",
    "    # Set batch size\n",
    "    config = re.sub('batch_size: [0-9]+',\n",
    "                  'batch_size: {}'.format(batch_size), config)\n",
    "\n",
    "#     Set training steps\n",
    "#     config = re.sub('num_steps: [0-9]+',\n",
    "#                   'num_steps: {}'.format(num_steps), config)\n",
    "\n",
    "    f.write(config)"
   ]
  },
  {
   "cell_type": "markdown",
   "id": "fc931cc9",
   "metadata": {},
   "source": [
    "# Training"
   ]
  },
  {
   "cell_type": "markdown",
   "id": "c064a2db",
   "metadata": {},
   "source": [
    "```\n",
    "python model_main_tf2.py --model_dir=models/<model-dir> --pipeline_config_path=models/<model-dir>/pipeline.config\n",
    "\n",
    "```"
   ]
  },
  {
   "cell_type": "code",
   "execution_count": null,
   "id": "78e3e5e7",
   "metadata": {},
   "outputs": [],
   "source": [
    "python model_main_tf2.py --model_dir=models/my_model --pipeline_config_path=models/my_model/pipeline.config --alsologtostderr\n",
    "python model_main_tf2.py --model_dir=models/my_model_v2 --pipeline_config_path=models/my_model_v2/pipeline.config --alsologtostderr --num_train_steps=3000\n",
    "python model_main_tf2.py --model_dir=models/my_model_lite --pipeline_config_path=models/my_model_lite/pipeline.config --alsologtostderr --num_train_steps=3000\n",
    "python model_main_tf2.py --model_dir=models/my_model_lite --pipeline_config_path=models/my_model_lite/pipeline.config --checkpoint_dir=models/my_model_lite"
   ]
  },
  {
   "cell_type": "code",
   "execution_count": null,
   "id": "a409d8bd",
   "metadata": {},
   "outputs": [],
   "source": [
    "# mobilenet\n",
    "python model_main_tf2.py --model_dir=out_model/mobilenet --pipeline_config_path=out_model/mobilenet/pipeline.config --alsologtostderr --num_train_steps=3000\n",
    "python model_main_tf2.py --model_dir=out_model/mobilenet --pipeline_config_path=out_model/mobilenet/pipeline.config --checkpoint_dir=out_model/mobilenet"
   ]
  },
  {
   "cell_type": "code",
   "execution_count": null,
   "id": "54e7e9ab",
   "metadata": {},
   "outputs": [],
   "source": [
    "# Export model\n",
    "python .\\exporter_main_v2.py --input_type image_tensor --pipeline_config_path .\\models\\my_model_lite\\pipeline.config --trained_checkpoint_dir .\\models\\my_model_lite\\ --output_directory .\\exported-models\\ak_model_lite"
   ]
  },
  {
   "cell_type": "code",
   "execution_count": null,
   "id": "a35c4a85",
   "metadata": {},
   "outputs": [],
   "source": [
    "!python /content/models/research/object_detection/model_main_tf2.py \\\n",
    "    --pipeline_config_path={pipeline_config_path} \\\n",
    "    --model_dir={model_dir} \\\n",
    "    --alsologtostderr \\\n",
    "    --num_train_steps={num_steps} \\\n",
    "    --sample_1_of_n_eval_examples=1 \\\n",
    "    --num_eval_steps={num_eval_steps}"
   ]
  }
 ],
 "metadata": {
  "kernelspec": {
   "display_name": "Python 3 (ipykernel)",
   "language": "python",
   "name": "python3"
  },
  "language_info": {
   "codemirror_mode": {
    "name": "ipython",
    "version": 3
   },
   "file_extension": ".py",
   "mimetype": "text/x-python",
   "name": "python",
   "nbconvert_exporter": "python",
   "pygments_lexer": "ipython3",
   "version": "3.9.12"
  }
 },
 "nbformat": 4,
 "nbformat_minor": 5
}
